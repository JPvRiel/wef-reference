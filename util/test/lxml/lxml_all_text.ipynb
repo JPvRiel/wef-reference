{
 "cells": [
  {
   "cell_type": "markdown",
   "metadata": {},
   "source": [
    "# Python lxml extension with all text property\n",
    "\n",
    "This collects some notes from attempting to extend lxml functioinality for the full text content of a element node (and all it's children).\n",
    "\n",
    "## Demo for how text truncation occurs\n",
    "\n",
    "Given the following XML:"
   ]
  },
  {
   "cell_type": "code",
   "execution_count": 1,
   "metadata": {},
   "outputs": [
    {
     "data": {
      "text/plain": [
       "\"\\n      *[\\n        System[\\n          Provider[@Name='MSSQLSERVER'] and\\n          (\\n            (\\n              EventID>=18453 and\\n              EventID<=18455\\n            ) or\\n            \""
      ]
     },
     "execution_count": 1,
     "metadata": {},
     "output_type": "execute_result"
    }
   ],
   "source": [
    "import lxml.etree\n",
    "import pprint\n",
    "\n",
    "str_xml_query_list = '''\n",
    "<QueryList>\n",
    "\n",
    "  <Query Id=\"0\" Path=\"Security\">\n",
    "\n",
    "    <!-- \n",
    "      E.g. extra custom query that gets more security events if MSSQLSERVER is installed. Helps test:\n",
    "      - Multi-line xpath parsing.\n",
    "      - Handling embeded comments.\n",
    "      - Hanlding more complex EventID range logic with >= and <= comparisons.\n",
    "    -->\n",
    "    <Select Path=\"Application\">\n",
    "      *[\n",
    "        System[\n",
    "          Provider[@Name='MSSQLSERVER'] and\n",
    "          (\n",
    "            (\n",
    "              EventID&gt;=18453 and\n",
    "              EventID&lt;=18455\n",
    "            ) or\n",
    "            <!-- \tLogin failed -->\n",
    "            EventID=18452 or\n",
    "            EventID=18456\n",
    "          )\n",
    "        ]\n",
    "      ]\n",
    "    </Select>\n",
    "\n",
    "  </Query>\n",
    "\n",
    "</QueryList>\n",
    "'''\n",
    "\n",
    "lxml_select_list = lxml.etree.fromstring(str_xml_query_list).xpath('/QueryList/Query/Select')\n",
    "lxml_select = lxml_select_list[0]\n",
    "lxml_select.text\n"
   ]
  },
  {
   "cell_type": "markdown",
   "metadata": {},
   "source": [
    "Clearly show how half the embeded xpath after the embeded comment are not included in the `text` property:"
   ]
  },
  {
   "cell_type": "code",
   "execution_count": 2,
   "metadata": {},
   "outputs": [
    {
     "name": "stdout",
     "output_type": "stream",
     "text": [
      "('\\n'\n",
      " '      *[\\n'\n",
      " '        System[\\n'\n",
      " \"          Provider[@Name='MSSQLSERVER'] and\\n\"\n",
      " '          (\\n'\n",
      " '            (\\n'\n",
      " '              EventID>=18453 and\\n'\n",
      " '              EventID<=18455\\n'\n",
      " '            ) or\\n'\n",
      " '            ')\n"
     ]
    }
   ],
   "source": [
    "pp = pprint.pprint\n",
    "pp(lxml_select_list[0].text)"
   ]
  },
  {
   "cell_type": "markdown",
   "metadata": {},
   "source": [
    "The above likely happens because, within an element, a comment becomes another element to itterate over, and so `text` is only for the current element and does not extend past comment sub-elements?\n",
    "\n",
    "## Use XPath to select all text a workaround"
   ]
  },
  {
   "cell_type": "code",
   "execution_count": 3,
   "metadata": {},
   "outputs": [
    {
     "data": {
      "text/plain": [
       "[\"\\n      *[\\n        System[\\n          Provider[@Name='MSSQLSERVER'] and\\n          (\\n            (\\n              EventID>=18453 and\\n              EventID<=18455\\n            ) or\\n            \",\n",
       " '\\n            EventID=18452 or\\n            EventID=18456\\n          )\\n        ]\\n      ]\\n    ']"
      ]
     },
     "execution_count": 3,
     "metadata": {},
     "output_type": "execute_result"
    }
   ],
   "source": [
    "lxml_select_list = lxml.etree.fromstring(str_xml_query_list).xpath('/QueryList/Query/Select')\n",
    "lxml_select = lxml_select_list[0]\n",
    "lxml_select.xpath('text()')"
   ]
  },
  {
   "cell_type": "markdown",
   "metadata": {},
   "source": [
    "Or more directly with with a full X-path:"
   ]
  },
  {
   "cell_type": "code",
   "execution_count": 4,
   "metadata": {},
   "outputs": [
    {
     "data": {
      "text/plain": [
       "[\"\\n      *[\\n        System[\\n          Provider[@Name='MSSQLSERVER'] and\\n          (\\n            (\\n              EventID>=18453 and\\n              EventID<=18455\\n            ) or\\n            \",\n",
       " '\\n            EventID=18452 or\\n            EventID=18456\\n          )\\n        ]\\n      ]\\n    ']"
      ]
     },
     "execution_count": 4,
     "metadata": {},
     "output_type": "execute_result"
    }
   ],
   "source": [
    "lxml_select_list_all_text_list = lxml.etree.fromstring(str_xml_query_list).xpath('/QueryList/Query/Select/text()')\n",
    "lxml_select_list_all_text_list"
   ]
  },
  {
   "cell_type": "markdown",
   "metadata": {},
   "source": [
    "So the above shows there are two text elements.\n",
    "\n",
    "Use a join function to recombine them:"
   ]
  },
  {
   "cell_type": "code",
   "execution_count": 5,
   "metadata": {},
   "outputs": [
    {
     "name": "stdout",
     "output_type": "stream",
     "text": [
      "('\\n'\n",
      " '      *[\\n'\n",
      " '        System[\\n'\n",
      " \"          Provider[@Name='MSSQLSERVER'] and\\n\"\n",
      " '          (\\n'\n",
      " '            (\\n'\n",
      " '              EventID>=18453 and\\n'\n",
      " '              EventID<=18455\\n'\n",
      " '            ) or\\n'\n",
      " '            \\n'\n",
      " '            EventID=18452 or\\n'\n",
      " '            EventID=18456\\n'\n",
      " '          )\\n'\n",
      " '        ]\\n'\n",
      " '      ]\\n'\n",
      " '    ')\n"
     ]
    }
   ],
   "source": [
    "lxml_select_list_all_text = ''.join(lxml_select_list_all_text_list)\n",
    "pp(lxml_select_list_all_text)"
   ]
  },
  {
   "cell_type": "markdown",
   "metadata": {},
   "source": [
    "\n",
    "\n",
    "## Use an extended XML element tree property to include all text as a workaround\n",
    "\n",
    "Note that the element class needs to be extended in a speical way and one should not simply superclass with `__init__` because lxml etree is a proxy to C and has complex memory managment interactions? See: [Element initialization](https://lxml.de/element_classes.html#element-initialization).\n",
    "\n",
    "By creating a custom element and using the `itertext()` function, a workaround is possible:"
   ]
  },
  {
   "cell_type": "code",
   "execution_count": 6,
   "metadata": {},
   "outputs": [
    {
     "data": {
      "text/plain": [
       "\"\\n      *[\\n        System[\\n          Provider[@Name='MSSQLSERVER'] and\\n          (\\n            (\\n              EventID>=18453 and\\n              EventID<=18455\\n            ) or\\n            \\n            EventID=18452 or\\n            EventID=18456\\n          )\\n        ]\\n      ]\\n    \\n\\n  \""
      ]
     },
     "execution_count": 6,
     "metadata": {},
     "output_type": "execute_result"
    }
   ],
   "source": [
    "class ExtendedElement(lxml.etree.ElementBase):\n",
    "\n",
    "  @property\n",
    "  def all_text(self):\n",
    "    \"\"\"\n",
    "    Iterate and join all the text within an element\n",
    "    Required because .text only returns text up to the first XML comment and truncates all text after any comments within the element.\n",
    "    \"\"\"\n",
    "\n",
    "    return ''.join([t for t in self.itertext()])\n",
    "\n",
    "lxml_select_extended = ExtendedElement(lxml_select)\n",
    "lxml_select_extended.all_text"
   ]
  },
  {
   "cell_type": "markdown",
   "metadata": {},
   "source": [
    "Clearly show how all the text is now itterated into to an `all_text` property:"
   ]
  },
  {
   "cell_type": "code",
   "execution_count": 7,
   "metadata": {},
   "outputs": [
    {
     "name": "stdout",
     "output_type": "stream",
     "text": [
      "('\\n'\n",
      " '      *[\\n'\n",
      " '        System[\\n'\n",
      " \"          Provider[@Name='MSSQLSERVER'] and\\n\"\n",
      " '          (\\n'\n",
      " '            (\\n'\n",
      " '              EventID>=18453 and\\n'\n",
      " '              EventID<=18455\\n'\n",
      " '            ) or\\n'\n",
      " '            \\n'\n",
      " '            EventID=18452 or\\n'\n",
      " '            EventID=18456\\n'\n",
      " '          )\\n'\n",
      " '        ]\\n'\n",
      " '      ]\\n'\n",
      " '    \\n'\n",
      " '\\n'\n",
      " '  ')\n"
     ]
    }
   ],
   "source": [
    "pp(lxml_select_extended.all_text)"
   ]
  },
  {
   "cell_type": "markdown",
   "metadata": {},
   "source": [
    "## Extending the element class adds a parent element node\n",
    "\n",
    "Note that, due to the philosphy of treating everthing as part of an XML element tree, technically a new XML element is created via the class"
   ]
  },
  {
   "cell_type": "code",
   "execution_count": 8,
   "metadata": {},
   "outputs": [
    {
     "name": "stdout",
     "output_type": "stream",
     "text": [
      "<ExtendedElement><Select Path=\"Application\">\n",
      "      *[\n",
      "        System[\n",
      "          Provider[@Name='MSSQLSERVER'] and\n",
      "          (\n",
      "            (\n",
      "              EventID&gt;=18453 and\n",
      "              EventID&lt;=18455\n",
      "            ) or\n",
      "            <!-- \tLogin failed -->\n",
      "            EventID=18452 or\n",
      "            EventID=18456\n",
      "          )\n",
      "        ]\n",
      "      ]\n",
      "    </Select>\n",
      "\n",
      "  </ExtendedElement>\n"
     ]
    }
   ],
   "source": [
    "print(lxml.etree.tostring(lxml_select_extended).decode())"
   ]
  },
  {
   "cell_type": "markdown",
   "metadata": {},
   "source": [
    "vs the original:"
   ]
  },
  {
   "cell_type": "code",
   "execution_count": 9,
   "metadata": {},
   "outputs": [
    {
     "name": "stdout",
     "output_type": "stream",
     "text": [
      "<Select Path=\"Application\">\n",
      "      *[\n",
      "        System[\n",
      "          Provider[@Name='MSSQLSERVER'] and\n",
      "          (\n",
      "            (\n",
      "              EventID&gt;=18453 and\n",
      "              EventID&lt;=18455\n",
      "            ) or\n",
      "            <!-- \tLogin failed -->\n",
      "            EventID=18452 or\n",
      "            EventID=18456\n",
      "          )\n",
      "        ]\n",
      "      ]\n",
      "    </Select>\n",
      "\n",
      "  \n"
     ]
    }
   ],
   "source": [
    "print(lxml.etree.tostring(lxml_select).decode())"
   ]
  },
  {
   "cell_type": "markdown",
   "metadata": {},
   "source": [
    "## Property values are not inherited into the extended element\n",
    "\n",
    "This extension class method has another limitation where it does not seem to inherit and retain the content of other properties in the element tree? E.g. `text`is `None` in the extended element:"
   ]
  },
  {
   "cell_type": "code",
   "execution_count": 10,
   "metadata": {},
   "outputs": [
    {
     "data": {
      "text/plain": [
       "True"
      ]
     },
     "execution_count": 10,
     "metadata": {},
     "output_type": "execute_result"
    }
   ],
   "source": [
    "lxml_select_extended.text is None"
   ]
  },
  {
   "cell_type": "markdown",
   "metadata": {},
   "source": [
    "vs the orignal:"
   ]
  },
  {
   "cell_type": "code",
   "execution_count": 11,
   "metadata": {},
   "outputs": [
    {
     "data": {
      "text/plain": [
       "\"\\n      *[\\n        System[\\n          Provider[@Name='MSSQLSERVER'] and\\n          (\\n            (\\n              EventID>=18453 and\\n              EventID<=18455\\n            ) or\\n            \""
      ]
     },
     "execution_count": 11,
     "metadata": {},
     "output_type": "execute_result"
    }
   ],
   "source": [
    "lxml_select.text"
   ]
  },
  {
   "cell_type": "markdown",
   "metadata": {},
   "source": [
    "So the sub-element needs to be selected again as a chile, e.g. via xpath, because extending the class injected parent element:"
   ]
  },
  {
   "cell_type": "code",
   "execution_count": 12,
   "metadata": {},
   "outputs": [
    {
     "data": {
      "text/plain": [
       "\"\\n      *[\\n        System[\\n          Provider[@Name='MSSQLSERVER'] and\\n          (\\n            (\\n              EventID>=18453 and\\n              EventID<=18455\\n            ) or\\n            \""
      ]
     },
     "execution_count": 12,
     "metadata": {},
     "output_type": "execute_result"
    }
   ],
   "source": [
    "lxml_select.xpath('.')[0].text"
   ]
  },
  {
   "cell_type": "markdown",
   "metadata": {},
   "source": [
    "## Python `xml` instead of `lxml`\n",
    "\n",
    "Validate if the `text` truncation behaviour is the same with the standard python `xml` module."
   ]
  },
  {
   "cell_type": "code",
   "execution_count": 13,
   "metadata": {},
   "outputs": [
    {
     "ename": "NameError",
     "evalue": "name 'x_select_list' is not defined",
     "output_type": "error",
     "traceback": [
      "\u001b[0;31m---------------------------------------------------------------------------\u001b[0m",
      "\u001b[0;31mNameError\u001b[0m                                 Traceback (most recent call last)",
      "\u001b[0;32m<ipython-input-13-6e78f267c229>\u001b[0m in \u001b[0;36m<module>\u001b[0;34m\u001b[0m\n\u001b[1;32m      2\u001b[0m \u001b[0;34m\u001b[0m\u001b[0m\n\u001b[1;32m      3\u001b[0m \u001b[0mxml_select_list\u001b[0m \u001b[0;34m=\u001b[0m \u001b[0mxml\u001b[0m\u001b[0;34m.\u001b[0m\u001b[0metree\u001b[0m\u001b[0;34m.\u001b[0m\u001b[0mElementTree\u001b[0m\u001b[0;34m.\u001b[0m\u001b[0mfromstring\u001b[0m\u001b[0;34m(\u001b[0m\u001b[0mstr_xml_query_list\u001b[0m\u001b[0;34m)\u001b[0m\u001b[0;34m.\u001b[0m\u001b[0mfindall\u001b[0m\u001b[0;34m(\u001b[0m\u001b[0;34m'./QueryList/Query/Select'\u001b[0m\u001b[0;34m)\u001b[0m\u001b[0;34m\u001b[0m\u001b[0;34m\u001b[0m\u001b[0m\n\u001b[0;32m----> 4\u001b[0;31m \u001b[0mxml_select\u001b[0m \u001b[0;34m=\u001b[0m \u001b[0mx_select_list\u001b[0m\u001b[0;34m[\u001b[0m\u001b[0;36m0\u001b[0m\u001b[0;34m]\u001b[0m\u001b[0;34m\u001b[0m\u001b[0;34m\u001b[0m\u001b[0m\n\u001b[0m\u001b[1;32m      5\u001b[0m \u001b[0mxml_select\u001b[0m\u001b[0;34m.\u001b[0m\u001b[0mtext\u001b[0m\u001b[0;34m\u001b[0m\u001b[0;34m\u001b[0m\u001b[0m\n",
      "\u001b[0;31mNameError\u001b[0m: name 'x_select_list' is not defined"
     ]
    }
   ],
   "source": [
    "import xml.etree.ElementTree\n",
    "\n",
    "xml_select_list = xml.etree.ElementTree.fromstring(str_xml_query_list).findall('./QueryList/Query/Select')\n",
    "xml_select = x_select_list[0]\n",
    "xml_select.text"
   ]
  },
  {
   "cell_type": "markdown",
   "metadata": {},
   "source": [
    "So, frtom the above, it's clear that the python `xml` module has the same issue as the `lxml` module."
   ]
  }
 ],
 "metadata": {
  "interpreter": {
   "hash": "f9f85f796d01129d0dd105a088854619f454435301f6ffec2fea96ecbd9be4ac"
  },
  "kernelspec": {
   "display_name": "Python 3.9.5 64-bit",
   "name": "python3"
  },
  "language_info": {
   "codemirror_mode": {
    "name": "ipython",
    "version": 3
   },
   "file_extension": ".py",
   "mimetype": "text/x-python",
   "name": "python",
   "nbconvert_exporter": "python",
   "pygments_lexer": "ipython3",
   "version": "3.9.5"
  },
  "orig_nbformat": 4
 },
 "nbformat": 4,
 "nbformat_minor": 2
}