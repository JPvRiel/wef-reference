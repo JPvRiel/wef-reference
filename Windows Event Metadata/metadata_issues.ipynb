{
 "cells": [
  {
   "cell_type": "markdown",
   "metadata": {},
   "source": [
    "# Windows Metadata Structure and Value Issues\n",
    "\n",
    "This notebook shows a few examples of the varience that occurs and encumbers parsing windows metadata extracted and serialised via `Get-EventMetadata.ps1` into the file `.\\Extracted\\EventMetadata.json.zip`.\n",
    "\n",
    "Below is the number of records in my sample metadata extract."
   ]
  },
  {
   "cell_type": "code",
   "execution_count": 24,
   "metadata": {},
   "outputs": [
    {
     "output_type": "execute_result",
     "data": {
      "text/plain": "1258"
     },
     "metadata": {},
     "execution_count": 24
    }
   ],
   "source": [
    "\n",
    "import os, zipfile, json, pandas as pd\n",
    "if 'Windows Event Metadata' not in os.getcwd():\n",
    "  os.chdir('Windows Event Metadata')\n",
    "json_import = json.load(zipfile.ZipFile('./Extracted/EventMetadata.json.zip', 'r').open('EventMetadata.json'))\n",
    "df = pd.json_normalize(json_import)\n",
    "n_records = len(df)\n",
    "n_records"
   ]
  },
  {
   "cell_type": "markdown",
   "metadata": {},
   "source": [
    "\n",
    "\n",
    "## Null vs empty lists for Keywords, Tasks, Opcodes and Levels\n",
    "\n",
    "It's very common for some of the provider or message structure to not be used, e.g. Keywords. How these unused or undefined values are handled is highly inconsistent. Windows provider metadata has at least 3 variations for undefined metadata:\n",
    "\n",
    "- Null value\n",
    "- Empty list\n",
    "- List which may contain a null value\n",
    "\n",
    "## Null values\n",
    "\n",
    "Keyword nodes for Providers can have null values or empty lists. As another example, the Keyword metadata for 'Microsoft-Windows-EtwCollector' is serialised as:\n",
    "\n",
    "```json\n",
    "{\n",
    "  {\n",
    "    \"Name\": \"Microsoft-Windows-EtwCollector\",\n",
    "    \"Id\": \"9e5f9046-43c6-4f62-ba13-7b19896253ff\",\n",
    "    \"MessageFilePath\": \"C:\\\\WINDOWS\\\\system32\\\\ieetwcollectorres.dll\",\n",
    "    \"ResourceFilePath\": \"C:\\\\WINDOWS\\\\system32\\\\ieetwcollectorres.dll\",\n",
    "    \"ParameterFilePath\": null,\n",
    "    \"HelpLink\": null,\n",
    "    \"DisplayName\": null,\n",
    "    \"LogLinks\": [],\n",
    "    \"Levels\": null,\n",
    "    \"Opcodes\": null,\n",
    "    \"Keywords\": null,\n",
    "    \"Tasks\": null,\n",
    "    \"Events\": null,\n",
    "    \"ProviderName\": \"Microsoft-Windows-EtwCollector\"\n",
    "  }\n",
    "}\n",
    "```\n",
    "\n",
    "The listed summation results below per column label show a handful of Providers didn't use lists for Keywords, Tasks, and Opcodes, but instead were simply Null. E.g. 21 Providers had Null for Keywords.\n"
   ]
  },
  {
   "cell_type": "code",
   "execution_count": 25,
   "metadata": {},
   "outputs": [
    {
     "output_type": "execute_result",
     "data": {
      "text/plain": "Name                    0\nId                      0\nMessageFilePath        13\nResourceFilePath      311\nParameterFilePath    1141\nHelpLink               67\nDisplayName           580\nLogLinks                0\nLevels                 21\nOpcodes                21\nKeywords               21\nTasks                  25\nEvents                 23\nProviderName            0\ndtype: int64"
     },
     "metadata": {},
     "execution_count": 25
    }
   ],
   "source": [
    "\n",
    "df.isnull().sum()"
   ]
  },
  {
   "cell_type": "markdown",
   "metadata": {},
   "source": [
    "## Empty lists\n",
    "\n",
    "For providers, quite often empty lists indicate no keywords are defined. E.g. note the `\"Keywords\": []` for the Powershell provider (JSON object truncated for brevity).\n",
    "\n",
    "```json\n",
    "{\n",
    "  \"Name\": \"PowerShell\",\n",
    "  \"Id\": \"00000000-0000-0000-0000-000000000000\",\n",
    "  \"MessageFilePath\": \"C:\\\\WINDOWS\\\\system32\\\\WindowsPowerShell\\\\v1.0\\\\pwrshmsg.dll\",\n",
    "  \"ResourceFilePath\": null,\n",
    "  \"ParameterFilePath\": null,\n",
    "  \"HelpLink\": \"https://go.microsoft.com/fwlink/events.asp?CoName=Microsoft%20Corporation&ProdName=Microsoft%c2%ae%20Windows%c2%ae%20Operating%20System&ProdVer=10.0.18362.1&FileName=pwrshmsg.dll&FileVer=10.0.18362.1\",\n",
    "  \"DisplayName\": null,\n",
    "  \"LogLinks\": [\n",
    "    {\n",
    "      \"LogName\": \"Windows PowerShell\",\n",
    "      \"IsImported\": true,\n",
    "      \"DisplayName\": null\n",
    "    }\n",
    "  ],\n",
    "  \"Levels\": [],\n",
    "  \"Opcodes\": [],\n",
    "  \"Keywords\": [],\n",
    "  \"Tasks\": [\n",
    "    {\n",
    "      \"Name\": \"Engine Health\\r\\n\",\n",
    "      \"Value\": 1,\n",
    "      \"DisplayName\": \"Engine Health\",\n",
    "      \"EventGuid\": \"00000000-0000-0000-0000-000000000000\"\n",
    "    },\n",
    "    {\n",
    "      \"Name\": \"Command Health\\r\\n\",\n",
    "      \"Value\": 2,\n",
    "      \"DisplayName\": \"Command Health\",\n",
    "      \"EventGuid\": \"00000000-0000-0000-0000-000000000000\"\n",
    "    }\n",
    "  ]\n",
    "}\n",
    "```\n",
    "\n",
    "E.g. Overall there were 684 empty list values in Keywords."
   ]
  },
  {
   "cell_type": "code",
   "execution_count": 26,
   "metadata": {},
   "outputs": [
    {
     "output_type": "execute_result",
     "data": {
      "text/plain": "{'Keywords': 684, 'Tasks': 591, 'Opcodes': 580, 'Levels': 365}"
     },
     "metadata": {},
     "execution_count": 26
    }
   ],
   "source": [
    "empty_counts = {}\n",
    "for c in ['Keywords', 'Tasks', 'Opcodes', 'Levels']:\n",
    "  empty_counts.update(\n",
    "    {c: len(df[df[c].apply(lambda i: isinstance(i, list) and len(i) == 0)])}\n",
    "  )\n",
    "empty_counts"
   ]
  },
  {
   "cell_type": "markdown",
   "metadata": {},
   "source": [
    "\n",
    "\n",
    "## Null values in Keyword lists\n",
    "\n",
    "### Event Keywords\n",
    "\n",
    "For the Event metadata level, keywords can be defined as an empty list, but more often, they are serialised as a list usually with a null item regardless of how many other valid keywords are defined.\n",
    "\n",
    "Keywords at the Provider metadata level don't seem to have nullfied name values (both 'DisplayName' and 'Name')."
   ]
  },
  {
   "cell_type": "code",
   "execution_count": 27,
   "metadata": {},
   "outputs": [
    {
     "output_type": "execute_result",
     "data": {
      "text/plain": "53822"
     },
     "metadata": {},
     "execution_count": 27
    }
   ],
   "source": [
    "df_e = pd.json_normalize(json_import, record_path='Events', meta_prefix='Provider.', meta=['Id', 'Name'])\n",
    "len(df_e)"
   ]
  },
  {
   "cell_type": "markdown",
   "metadata": {},
   "source": [
    "Sometimes Keywords at the Event metadata level are empty lists, but not often. Only ~1200 used a null value."
   ]
  },
  {
   "cell_type": "code",
   "execution_count": 28,
   "metadata": {},
   "outputs": [
    {
     "output_type": "execute_result",
     "data": {
      "text/plain": "1228"
     },
     "metadata": {},
     "execution_count": 28
    }
   ],
   "source": [
    "len(df_e[df_e['Keywords'].apply(lambda i: isinstance(i, list) and len(i) == 0)])"
   ]
  },
  {
   "cell_type": "markdown",
   "metadata": {},
   "source": [
    "As a sample of events using an empty keyword list object."
   ]
  },
  {
   "cell_type": "code",
   "execution_count": 29,
   "metadata": {},
   "outputs": [
    {
     "output_type": "execute_result",
     "data": {
      "text/plain": "       Id  Version Keywords  \\\n62      0        0       []   \n1757  702        0       []   \n1764  713        0       []   \n1769  718        0       []   \n1771  720        0       []   \n\n                                                                                                 Template  \\\n62    <template xmlns=\"http://schemas.microsoft.com/win/2004/08/events\">\\r\\n  <data name=\"stringPtr\" i...   \n1757  <template xmlns=\"http://schemas.microsoft.com/win/2004/08/events\">\\r\\n  <data name=\"EventType\" i...   \n1764  <template xmlns=\"http://schemas.microsoft.com/win/2004/08/events\">\\r\\n  <data name=\"RcsChatId\" i...   \n1769  <template xmlns=\"http://schemas.microsoft.com/win/2004/08/events\">\\r\\n  <data name=\"serviceType\"...   \n1771                                                                                                        \n\n                                                                                              Description  \\\n62                                                                                                     %1   \n1757                                              ChatStoreChanged event: event type [%1], item type [%2]   \n1764  ComposingStatusChanged event: source [RCS], chat id [%1], is group [%2], teluri [%3], is composi...   \n1769                                  RcsServiceStatusChanged event: service type [%1], is supported [%2]   \n1771                                                                   Rcs service initialization started   \n\n     LogLink.LogName  LogLink.IsImported LogLink.DisplayName  \\\n62              None               False                None   \n1757            None               False                None   \n1764            None               False                None   \n1769            None               False                None   \n1771            None               False                None   \n\n             Level.Name  Level.Value Level.DisplayName Opcode.Name  \\\n62        win:LogAlways            0        Log Always        None   \n1757        win:Verbose            5           Verbose        None   \n1764        win:Verbose            5           Verbose        None   \n1769        win:Verbose            5           Verbose        None   \n1771  win:Informational            4       Information        None   \n\n      Opcode.Value Opcode.DisplayName Task.Name  Task.Value Task.DisplayName  \\\n62               0               None      None           0             None   \n1757             0               None      None           0             None   \n1764             0               None      None           0             None   \n1769             0               None      None           0             None   \n1771             0               None      None           0             None   \n\n                            Task.EventGuid  \\\n62    00000000-0000-0000-0000-000000000000   \n1757  00000000-0000-0000-0000-000000000000   \n1764  00000000-0000-0000-0000-000000000000   \n1769  00000000-0000-0000-0000-000000000000   \n1771  00000000-0000-0000-0000-000000000000   \n\n                               Provider.Id  \\\n62    fdc7b3f9-eb64-4043-9d47-bf2b7457baa6   \n1757  fb19ee2c-0d22-4a2e-969e-dd41ae0ce1a9   \n1764  fb19ee2c-0d22-4a2e-969e-dd41ae0ce1a9   \n1769  fb19ee2c-0d22-4a2e-969e-dd41ae0ce1a9   \n1771  fb19ee2c-0d22-4a2e-969e-dd41ae0ce1a9   \n\n                                         Provider.Name  \n62                                   EsifLfEtwProvider  \n1757  Microsoft-Windows-UserDataAccess-UserDataService  \n1764  Microsoft-Windows-UserDataAccess-UserDataService  \n1769  Microsoft-Windows-UserDataAccess-UserDataService  \n1771  Microsoft-Windows-UserDataAccess-UserDataService  ",
      "text/html": "<div>\n<style scoped>\n    .dataframe tbody tr th:only-of-type {\n        vertical-align: middle;\n    }\n\n    .dataframe tbody tr th {\n        vertical-align: top;\n    }\n\n    .dataframe thead th {\n        text-align: right;\n    }\n</style>\n<table border=\"1\" class=\"dataframe\">\n  <thead>\n    <tr style=\"text-align: right;\">\n      <th></th>\n      <th>Id</th>\n      <th>Version</th>\n      <th>Keywords</th>\n      <th>Template</th>\n      <th>Description</th>\n      <th>LogLink.LogName</th>\n      <th>LogLink.IsImported</th>\n      <th>LogLink.DisplayName</th>\n      <th>Level.Name</th>\n      <th>Level.Value</th>\n      <th>Level.DisplayName</th>\n      <th>Opcode.Name</th>\n      <th>Opcode.Value</th>\n      <th>Opcode.DisplayName</th>\n      <th>Task.Name</th>\n      <th>Task.Value</th>\n      <th>Task.DisplayName</th>\n      <th>Task.EventGuid</th>\n      <th>Provider.Id</th>\n      <th>Provider.Name</th>\n    </tr>\n  </thead>\n  <tbody>\n    <tr>\n      <th>62</th>\n      <td>0</td>\n      <td>0</td>\n      <td>[]</td>\n      <td>&lt;template xmlns=\"http://schemas.microsoft.com/win/2004/08/events\"&gt;\\r\\n  &lt;data name=\"stringPtr\" i...</td>\n      <td>%1</td>\n      <td>None</td>\n      <td>False</td>\n      <td>None</td>\n      <td>win:LogAlways</td>\n      <td>0</td>\n      <td>Log Always</td>\n      <td>None</td>\n      <td>0</td>\n      <td>None</td>\n      <td>None</td>\n      <td>0</td>\n      <td>None</td>\n      <td>00000000-0000-0000-0000-000000000000</td>\n      <td>fdc7b3f9-eb64-4043-9d47-bf2b7457baa6</td>\n      <td>EsifLfEtwProvider</td>\n    </tr>\n    <tr>\n      <th>1757</th>\n      <td>702</td>\n      <td>0</td>\n      <td>[]</td>\n      <td>&lt;template xmlns=\"http://schemas.microsoft.com/win/2004/08/events\"&gt;\\r\\n  &lt;data name=\"EventType\" i...</td>\n      <td>ChatStoreChanged event: event type [%1], item type [%2]</td>\n      <td>None</td>\n      <td>False</td>\n      <td>None</td>\n      <td>win:Verbose</td>\n      <td>5</td>\n      <td>Verbose</td>\n      <td>None</td>\n      <td>0</td>\n      <td>None</td>\n      <td>None</td>\n      <td>0</td>\n      <td>None</td>\n      <td>00000000-0000-0000-0000-000000000000</td>\n      <td>fb19ee2c-0d22-4a2e-969e-dd41ae0ce1a9</td>\n      <td>Microsoft-Windows-UserDataAccess-UserDataService</td>\n    </tr>\n    <tr>\n      <th>1764</th>\n      <td>713</td>\n      <td>0</td>\n      <td>[]</td>\n      <td>&lt;template xmlns=\"http://schemas.microsoft.com/win/2004/08/events\"&gt;\\r\\n  &lt;data name=\"RcsChatId\" i...</td>\n      <td>ComposingStatusChanged event: source [RCS], chat id [%1], is group [%2], teluri [%3], is composi...</td>\n      <td>None</td>\n      <td>False</td>\n      <td>None</td>\n      <td>win:Verbose</td>\n      <td>5</td>\n      <td>Verbose</td>\n      <td>None</td>\n      <td>0</td>\n      <td>None</td>\n      <td>None</td>\n      <td>0</td>\n      <td>None</td>\n      <td>00000000-0000-0000-0000-000000000000</td>\n      <td>fb19ee2c-0d22-4a2e-969e-dd41ae0ce1a9</td>\n      <td>Microsoft-Windows-UserDataAccess-UserDataService</td>\n    </tr>\n    <tr>\n      <th>1769</th>\n      <td>718</td>\n      <td>0</td>\n      <td>[]</td>\n      <td>&lt;template xmlns=\"http://schemas.microsoft.com/win/2004/08/events\"&gt;\\r\\n  &lt;data name=\"serviceType\"...</td>\n      <td>RcsServiceStatusChanged event: service type [%1], is supported [%2]</td>\n      <td>None</td>\n      <td>False</td>\n      <td>None</td>\n      <td>win:Verbose</td>\n      <td>5</td>\n      <td>Verbose</td>\n      <td>None</td>\n      <td>0</td>\n      <td>None</td>\n      <td>None</td>\n      <td>0</td>\n      <td>None</td>\n      <td>00000000-0000-0000-0000-000000000000</td>\n      <td>fb19ee2c-0d22-4a2e-969e-dd41ae0ce1a9</td>\n      <td>Microsoft-Windows-UserDataAccess-UserDataService</td>\n    </tr>\n    <tr>\n      <th>1771</th>\n      <td>720</td>\n      <td>0</td>\n      <td>[]</td>\n      <td></td>\n      <td>Rcs service initialization started</td>\n      <td>None</td>\n      <td>False</td>\n      <td>None</td>\n      <td>win:Informational</td>\n      <td>4</td>\n      <td>Information</td>\n      <td>None</td>\n      <td>0</td>\n      <td>None</td>\n      <td>None</td>\n      <td>0</td>\n      <td>None</td>\n      <td>00000000-0000-0000-0000-000000000000</td>\n      <td>fb19ee2c-0d22-4a2e-969e-dd41ae0ce1a9</td>\n      <td>Microsoft-Windows-UserDataAccess-UserDataService</td>\n    </tr>\n  </tbody>\n</table>\n</div>"
     },
     "metadata": {},
     "execution_count": 29
    }
   ],
   "source": [
    "df_e[df_e['Keywords'].apply(lambda i: isinstance(i, list) and len(i) == 0)].head()"
   ]
  },
  {
   "cell_type": "markdown",
   "metadata": {},
   "source": [
    "Most Keywords at the Event metadata level do seem to have at least one item with both 'DisplayName' and 'Name' as null."
   ]
  },
  {
   "cell_type": "code",
   "execution_count": 30,
   "metadata": {},
   "outputs": [
    {
     "output_type": "execute_result",
     "data": {
      "text/plain": "43516"
     },
     "metadata": {},
     "execution_count": 30
    }
   ],
   "source": [
    "def has_null_names(o):\n",
    "  if isinstance(o, list):\n",
    "    for i in o:\n",
    "      if i['Name'] == None and i['DisplayName'] == None:\n",
    "        return True\n",
    "  elif isinstance(o, dict):\n",
    "    return i['Name'] == None and i['DisplayName'] == None\n",
    "  return False\n",
    "\n",
    "len(df_e[df_e['Keywords'].apply(has_null_names)])\n"
   ]
  },
  {
   "cell_type": "markdown",
   "metadata": {},
   "source": [
    "And as a sample of the dual null keyword names"
   ]
  },
  {
   "cell_type": "code",
   "execution_count": 31,
   "metadata": {},
   "outputs": [
    {
     "output_type": "execute_result",
     "data": {
      "text/plain": "    Id                                                              Keywords  \\\n0   55  [{'Name': None, 'Value': -9223372036854775808, 'DisplayName': None}]   \n1  130  [{'Name': None, 'Value': -9223372036854775808, 'DisplayName': None}]   \n2  131  [{'Name': None, 'Value': -9223372036854775808, 'DisplayName': None}]   \n3  132  [{'Name': None, 'Value': -9223372036854775808, 'DisplayName': None}]   \n4  133  [{'Name': None, 'Value': -9223372036854775808, 'DisplayName': None}]   \n\n                                                                                           Description  \\\n0                     A corruption was discovered in the file system structure on volume %1.\\r\\n\\r\\n%8   \n1                                        The file system structure on volume %2 has now been repaired.   \n2  The file system structure on volume %2 cannot be corrected.\\r\\nPlease run the chkdsk utility on ...   \n3  Too many repair events have occurred in a short period of time.\\r\\nTemporarily suspending postin...   \n4  Skipped posting of %1 repair events.  Repair event posting will now be resumed.\\r\\n Here are the...   \n\n  LogLink.LogName Provider.Name  \n0          System          Ntfs  \n1          System          Ntfs  \n2          System          Ntfs  \n3          System          Ntfs  \n4          System          Ntfs  ",
      "text/html": "<div>\n<style scoped>\n    .dataframe tbody tr th:only-of-type {\n        vertical-align: middle;\n    }\n\n    .dataframe tbody tr th {\n        vertical-align: top;\n    }\n\n    .dataframe thead th {\n        text-align: right;\n    }\n</style>\n<table border=\"1\" class=\"dataframe\">\n  <thead>\n    <tr style=\"text-align: right;\">\n      <th></th>\n      <th>Id</th>\n      <th>Keywords</th>\n      <th>Description</th>\n      <th>LogLink.LogName</th>\n      <th>Provider.Name</th>\n    </tr>\n  </thead>\n  <tbody>\n    <tr>\n      <th>0</th>\n      <td>55</td>\n      <td>[{'Name': None, 'Value': -9223372036854775808, 'DisplayName': None}]</td>\n      <td>A corruption was discovered in the file system structure on volume %1.\\r\\n\\r\\n%8</td>\n      <td>System</td>\n      <td>Ntfs</td>\n    </tr>\n    <tr>\n      <th>1</th>\n      <td>130</td>\n      <td>[{'Name': None, 'Value': -9223372036854775808, 'DisplayName': None}]</td>\n      <td>The file system structure on volume %2 has now been repaired.</td>\n      <td>System</td>\n      <td>Ntfs</td>\n    </tr>\n    <tr>\n      <th>2</th>\n      <td>131</td>\n      <td>[{'Name': None, 'Value': -9223372036854775808, 'DisplayName': None}]</td>\n      <td>The file system structure on volume %2 cannot be corrected.\\r\\nPlease run the chkdsk utility on ...</td>\n      <td>System</td>\n      <td>Ntfs</td>\n    </tr>\n    <tr>\n      <th>3</th>\n      <td>132</td>\n      <td>[{'Name': None, 'Value': -9223372036854775808, 'DisplayName': None}]</td>\n      <td>Too many repair events have occurred in a short period of time.\\r\\nTemporarily suspending postin...</td>\n      <td>System</td>\n      <td>Ntfs</td>\n    </tr>\n    <tr>\n      <th>4</th>\n      <td>133</td>\n      <td>[{'Name': None, 'Value': -9223372036854775808, 'DisplayName': None}]</td>\n      <td>Skipped posting of %1 repair events.  Repair event posting will now be resumed.\\r\\n Here are the...</td>\n      <td>System</td>\n      <td>Ntfs</td>\n    </tr>\n  </tbody>\n</table>\n</div>"
     },
     "metadata": {},
     "execution_count": 31
    }
   ],
   "source": [
    "pd.options.display.max_colwidth = 100\n",
    "df_e[df_e['Keywords'].apply(has_null_names)][['Id','Keywords','Description','LogLink.LogName','Provider.Name']].head()"
   ]
  },
  {
   "cell_type": "markdown",
   "metadata": {},
   "source": [
    "With over 40,000 having the nullified keyword name present, it be interesting to observe the events that dont. E.g. for Keywords:"
   ]
  },
  {
   "cell_type": "code",
   "execution_count": 32,
   "metadata": {},
   "outputs": [
    {
     "output_type": "error",
     "ename": "NameError",
     "evalue": "name 'pandas' is not defined",
     "traceback": [
      "\u001b[0;31m---------------------------------------------------------------------------\u001b[0m",
      "\u001b[0;31mNameError\u001b[0m                                 Traceback (most recent call last)",
      "\u001b[0;32m<ipython-input-32-86caf294f8ac>\u001b[0m in \u001b[0;36m<module>\u001b[0;34m\u001b[0m\n\u001b[0;32m----> 1\u001b[0;31m \u001b[0mpandas\u001b[0m\u001b[0;34m.\u001b[0m\u001b[0mreset_option\u001b[0m\u001b[0;34m(\u001b[0m\u001b[0;34m'display.max_colwidth'\u001b[0m\u001b[0;34m)\u001b[0m\u001b[0;34m\u001b[0m\u001b[0;34m\u001b[0m\u001b[0m\n\u001b[0m\u001b[1;32m      2\u001b[0m \u001b[0mdf_e\u001b[0m\u001b[0;34m[\u001b[0m\u001b[0mdf_e\u001b[0m\u001b[0;34m[\u001b[0m\u001b[0;34m'Keywords'\u001b[0m\u001b[0;34m]\u001b[0m\u001b[0;34m.\u001b[0m\u001b[0mapply\u001b[0m\u001b[0;34m(\u001b[0m\u001b[0;32mlambda\u001b[0m \u001b[0mk\u001b[0m\u001b[0;34m:\u001b[0m \u001b[0;32mnot\u001b[0m \u001b[0mhas_null_names\u001b[0m\u001b[0;34m(\u001b[0m\u001b[0mk\u001b[0m\u001b[0;34m)\u001b[0m\u001b[0;34m)\u001b[0m\u001b[0;34m]\u001b[0m\u001b[0;34m.\u001b[0m\u001b[0mhead\u001b[0m\u001b[0;34m(\u001b[0m\u001b[0;34m)\u001b[0m\u001b[0;34m\u001b[0m\u001b[0;34m\u001b[0m\u001b[0m\n",
      "\u001b[0;31mNameError\u001b[0m: name 'pandas' is not defined"
     ]
    }
   ],
   "source": [
    "pandas.reset_option('display.max_colwidth')\n",
    "df_e[df_e['Keywords'].apply(lambda k: not has_null_names(k))].head()"
   ]
  },
  {
   "cell_type": "markdown",
   "metadata": {},
   "source": [
    "Unlike Keywords, Task, Opcode and Level objects were already flattened by `json_normalize()` into lables (as these are not nested in a list like Keywords). E.g a sample of nullified tasks."
   ]
  },
  {
   "cell_type": "code",
   "execution_count": 33,
   "metadata": {},
   "outputs": [
    {
     "output_type": "execute_result",
     "data": {
      "text/plain": "    Id  Task.Value Task.Name Task.DisplayName  \\\n0   55           0      None             None   \n1  130           0      None             None   \n2  131           0      None             None   \n3  132           0      None             None   \n4  133           0      None             None   \n\n                                                                                           Description  \\\n0                     A corruption was discovered in the file system structure on volume %1.\\r\\n\\r\\n%8   \n1                                        The file system structure on volume %2 has now been repaired.   \n2  The file system structure on volume %2 cannot be corrected.\\r\\nPlease run the chkdsk utility on ...   \n3  Too many repair events have occurred in a short period of time.\\r\\nTemporarily suspending postin...   \n4  Skipped posting of %1 repair events.  Repair event posting will now be resumed.\\r\\n Here are the...   \n\n  LogLink.LogName Provider.Name  \n0          System          Ntfs  \n1          System          Ntfs  \n2          System          Ntfs  \n3          System          Ntfs  \n4          System          Ntfs  ",
      "text/html": "<div>\n<style scoped>\n    .dataframe tbody tr th:only-of-type {\n        vertical-align: middle;\n    }\n\n    .dataframe tbody tr th {\n        vertical-align: top;\n    }\n\n    .dataframe thead th {\n        text-align: right;\n    }\n</style>\n<table border=\"1\" class=\"dataframe\">\n  <thead>\n    <tr style=\"text-align: right;\">\n      <th></th>\n      <th>Id</th>\n      <th>Task.Value</th>\n      <th>Task.Name</th>\n      <th>Task.DisplayName</th>\n      <th>Description</th>\n      <th>LogLink.LogName</th>\n      <th>Provider.Name</th>\n    </tr>\n  </thead>\n  <tbody>\n    <tr>\n      <th>0</th>\n      <td>55</td>\n      <td>0</td>\n      <td>None</td>\n      <td>None</td>\n      <td>A corruption was discovered in the file system structure on volume %1.\\r\\n\\r\\n%8</td>\n      <td>System</td>\n      <td>Ntfs</td>\n    </tr>\n    <tr>\n      <th>1</th>\n      <td>130</td>\n      <td>0</td>\n      <td>None</td>\n      <td>None</td>\n      <td>The file system structure on volume %2 has now been repaired.</td>\n      <td>System</td>\n      <td>Ntfs</td>\n    </tr>\n    <tr>\n      <th>2</th>\n      <td>131</td>\n      <td>0</td>\n      <td>None</td>\n      <td>None</td>\n      <td>The file system structure on volume %2 cannot be corrected.\\r\\nPlease run the chkdsk utility on ...</td>\n      <td>System</td>\n      <td>Ntfs</td>\n    </tr>\n    <tr>\n      <th>3</th>\n      <td>132</td>\n      <td>0</td>\n      <td>None</td>\n      <td>None</td>\n      <td>Too many repair events have occurred in a short period of time.\\r\\nTemporarily suspending postin...</td>\n      <td>System</td>\n      <td>Ntfs</td>\n    </tr>\n    <tr>\n      <th>4</th>\n      <td>133</td>\n      <td>0</td>\n      <td>None</td>\n      <td>None</td>\n      <td>Skipped posting of %1 repair events.  Repair event posting will now be resumed.\\r\\n Here are the...</td>\n      <td>System</td>\n      <td>Ntfs</td>\n    </tr>\n  </tbody>\n</table>\n</div>"
     },
     "metadata": {},
     "execution_count": 33
    }
   ],
   "source": [
    "df_e[df_e['Task.Name'].isnull() & df_e['Task.DisplayName'].isnull()][['Id','Task.Value','Task.Name','Task.DisplayName','Description','LogLink.LogName','Provider.Name']].head()"
   ]
  },
  {
   "cell_type": "markdown",
   "metadata": {},
   "source": [
    "The nullified names for Tasks, Opcodes and Levels counted."
   ]
  },
  {
   "cell_type": "code",
   "execution_count": 34,
   "metadata": {},
   "outputs": [
    {
     "output_type": "execute_result",
     "data": {
      "text/plain": "{'Level': 3863, 'Task': 15626, 'Opcode': 10938}"
     },
     "metadata": {},
     "execution_count": 34
    }
   ],
   "source": [
    "display_name_and_name_null_count = {}\n",
    "for c in ['Level', 'Task', 'Opcode']:\n",
    "  display_name_and_name_null_count.update(\n",
    "    {c: len(df_e[df_e[f'{c}.Name'].isnull() & df_e[f'{c}.DisplayName'].isnull()])}\n",
    "  )\n",
    "display_name_and_name_null_count"
   ]
  },
  {
   "cell_type": "markdown",
   "metadata": {},
   "source": [
    "So while not being lists, the Task, Opcode and Level metadata for events is often nullfied. Even 3863 event ID had no level defined.\n",
    "\n",
    "### Provider Keywords, Tasks, Opcodes and Levels\n",
    "\n",
    "However, the Keyword metadata for Providers doens't include the nullfied name items like seen in the Event metadata."
   ]
  },
  {
   "cell_type": "code",
   "execution_count": 35,
   "metadata": {},
   "outputs": [
    {
     "output_type": "execute_result",
     "data": {
      "text/plain": "{'Keywords': 0, 'Tasks': 0, 'Opcodes': 0, 'Levels': 0}"
     },
     "metadata": {},
     "execution_count": 35
    }
   ],
   "source": [
    "has_null_names_in_list_counts = {}\n",
    "for c in ['Keywords', 'Tasks', 'Opcodes', 'Levels']:\n",
    "  has_null_names_in_list_counts.update(\n",
    "    {c: len(df[df[c].apply(has_null_names)])}\n",
    "  )\n",
    "has_null_names_in_list_counts"
   ]
  },
  {
   "cell_type": "markdown",
   "metadata": {},
   "source": [
    "## Conclusion\n",
    "\n",
    "Undefined Keywords, Tasks, Opcodes and Levels have widely divergent data structures. Sometimes it's a simple Null value and other times an empty list. But the metadata level of Provider vs Event also affects the structure used. Keyword lists are particularly awkward and often include special nullified value with a null 'DisplayName' and 'Names'. This nullfied value seems to be unecessarily included along with non-null defined keywords in the list."
   ]
  },
  {
   "cell_type": "markdown",
   "metadata": {},
   "source": []
  }
 ],
 "metadata": {
  "language_info": {
   "codemirror_mode": {
    "name": "ipython",
    "version": 3
   },
   "file_extension": ".py",
   "mimetype": "text/x-python",
   "name": "python",
   "nbconvert_exporter": "python",
   "pygments_lexer": "ipython3",
   "version": "3.7.7-final"
  },
  "orig_nbformat": 2,
  "kernelspec": {
   "name": "python37564bitbaseconda368a77134fd440d59630631964edbd57",
   "display_name": "Python 3.7.5 64-bit ('base': conda)"
  }
 },
 "nbformat": 4,
 "nbformat_minor": 2
}